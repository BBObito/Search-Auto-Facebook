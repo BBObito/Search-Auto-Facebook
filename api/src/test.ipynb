{
 "cells": [
  {
   "cell_type": "code",
   "execution_count": null,
   "metadata": {},
   "outputs": [
    {
     "name": "stdout",
     "output_type": "stream",
     "text": [
      "1732503715.515396\n"
     ]
    }
   ],
   "source": [
    "import os\n",
    "import time\n",
    "\n",
    "file_path = \"facebook_cookies.pkl\"\n",
    "\n",
    "if os.path.exists(file_path):\n",
    "    creation_time = os.path.getctime(file_path)\n",
    "    readable_time = time.ctime(creation_time)\n",
    "    # lấy time hiện tại trù đi time của readable_time nếu mà lớn hơn 2h thì xóa file\n",
    "    if time.time() - creation_time > 7200:\n",
    "        os.remove(file_path)\n",
    "        print(\"File đã bị xóa.\")\n",
    "        \n",
    "else:\n",
    "    print(\"File không tồn tại.\")\n"
   ]
  },
  {
   "cell_type": "code",
   "execution_count": null,
   "metadata": {},
   "outputs": [],
   "source": []
  }
 ],
 "metadata": {
  "kernelspec": {
   "display_name": ".venv",
   "language": "python",
   "name": "python3"
  },
  "language_info": {
   "codemirror_mode": {
    "name": "ipython",
    "version": 3
   },
   "file_extension": ".py",
   "mimetype": "text/x-python",
   "name": "python",
   "nbconvert_exporter": "python",
   "pygments_lexer": "ipython3",
   "version": "3.9.13"
  }
 },
 "nbformat": 4,
 "nbformat_minor": 2
}
