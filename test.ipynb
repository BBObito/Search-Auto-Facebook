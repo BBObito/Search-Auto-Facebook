{
 "cells": [
  {
   "cell_type": "code",
   "execution_count": null,
   "metadata": {},
   "outputs": [],
   "source": [
    "from metacontentlibraryapi import MetaContentLibraryAPIClient as client\n",
    "\n",
    "client.set_default_version(client.LATEST_VERSION)\n",
    "\n",
    "response = client.get(\n",
    "    path=\"search/facebook_posts\",\n",
    "    params={\"q\": \"cybercrime\"}\n",
    ")\n",
    "display(response.json()) # Display first page\n",
    "\n",
    "# Fetch next page\n",
    "if client.has_next_page(response):\n",
    "    response = client.query_next_page(response)\n",
    "    display(response.json()) # Display second page"
   ]
  },
  {
   "cell_type": "code",
   "execution_count": null,
   "metadata": {},
   "outputs": [],
   "source": []
  }
 ],
 "metadata": {
  "kernelspec": {
   "display_name": ".venv",
   "language": "python",
   "name": "python3"
  },
  "language_info": {
   "name": "python",
   "version": "3.9.13"
  }
 },
 "nbformat": 4,
 "nbformat_minor": 2
}
