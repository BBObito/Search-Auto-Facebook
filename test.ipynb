{
 "cells": [
  {
   "cell_type": "code",
   "execution_count": null,
   "metadata": {},
   "outputs": [],
   "source": [
    "from metacontentlibraryapi import MetaContentLibraryAPIClient as client\n",
    "\n",
    "client.set_default_version(client.LATEST_VERSION)\n",
    "\n",
    "response = client.get(\n",
    "    path=\"search/facebook_posts\",\n",
    "    params={\"q\": \"cybercrime\"}\n",
    ")\n",
    "display(response.json()) # Display first page\n",
    "\n",
    "# Fetch next page\n",
    "if client.has_next_page(response):\n",
    "    response = client.query_next_page(response)\n",
    "    display(response.json()) # Display second page"
   ]
  },
  {
   "cell_type": "code",
   "execution_count": null,
   "metadata": {},
   "outputs": [],
   "source": [
    "<div aria-hidden=\"false\" aria-label=\"Close\" class=\"x1i10hfl xjqpnuy xa49m3k xqeqjp1 x2hbi6w x13fuv20 xu3j5b3 x1q0q8m5 x26u7qi x1ypdohk xdl72j9 x2lah0s xe8uvvx xdj266r x11i5rnm xat24cr x1mh8g0r x2lwn1j xeuugli x16tdsg8 x1hl2dhg xggy1nq x1ja2u2z x1t137rt x1q0g3np x87ps6o x1lku1pv x1a2a7pz x6s0dn4 xzolkzo x12go9s9 x1rnf11y xprq8jg x972fbf xcfux6l x1qhh985 xm0m39n x9f619 x78zum5 xl56j7k xexx8yu x4uap5 x18d9i69 xkhd6sd x1n2onr6 x1vqgdyp x100vrsf x18l40ae x14ctfv\" role=\"button\" tabindex=\"0\"><i data-visualcompletion=\"css-img\" class=\"x1b0d499 xaj1gnb\" style=\"background-image: url(&quot;https://static.xx.fbcdn.net/rsrc.php/v3/yV/r/vqToTKm7Lq2.png&quot;); background-position: 0px -427px; background-size: auto; width: 20px; height: 20px; background-repeat: no-repeat; display: inline-block;\"></i><div class=\"x1ey2m1c xds687c x17qophe xg01cxk x47corl x10l6tqk x13vifvy x1ebt8du x19991ni x1dhq9h xzolkzo x12go9s9 x1rnf11y xprq8jg\" role=\"none\" data-visualcompletion=\"ignore\" style=\"inset: 0px;\"></div></div>\n"
   ]
  },
  {
   "cell_type": "code",
   "execution_count": null,
   "metadata": {},
   "outputs": [],
   "source": [
    "/html/body/div[1]/div/div/div[1]/div/div[2]/div[1]/div[1]/span/div"
   ]
  },
  {
   "cell_type": "code",
   "execution_count": null,
   "metadata": {},
   "outputs": [],
   "source": [
    "//div[@aria-hidden=\"false\" and @aria-label=\"Close\"]"
   ]
  },
  {
   "cell_type": "code",
   "execution_count": null,
   "metadata": {},
   "outputs": [],
   "source": [
    "/html/body/div[1]/div/div/div[1]/div/div[5]/div/div/div[3]/div[2]/div/div/div[2]/div[1]/div/div[1]/div/div/div[1]/div[1]/div[2]/div/div[2]/span/div/span[1]/span/a\n",
    "/html/body/div[1]/div/div/div[1]/div/div[3]/div/div/div[1]/div[1]/div[2]/div/div/div/div/div/div[1]/div/div/div/div/div/div/div/div/div/div/div[13]/div/div/div[2]/div/div[2]/div/div[2]/span/div/span[1]/span/a"
   ]
  },
  {
   "cell_type": "code",
   "execution_count": null,
   "metadata": {},
   "outputs": [],
   "source": [
    "#\\:r7a\\: > span:nth-child(1) > span > a\n",
    "#mount_0_0_5G > div > div > div:nth-child(1) > div > div.__fb-dark-mode.x1n2onr6.x1vjfegm > div > div > div.x78zum5.xdt5ytf.xg6iff7.x1n2onr6.x1ja2u2z.x443n21 > div.x78zum5.xdt5ytf.x1t2pt76 > div > div > div.x2bj2ny.x78zum5.x2lah0s.x1t2pt76.x1n2onr6.x1cvmir6 > div.x2bj2ny.x78zum5.xdt5ytf.xds687c.xnjgh8c.xixxii4.x1qrby5j.xjabf5u.xfmqk8h.xxzkxad > div > div.x78zum5.xdt5ytf.x1iyjqo2.x1n2onr6 > div > div > div.x78zum5.xdt5ytf.x2lah0s.x1pi30zi.x18d9i69.x1swvt13.xyamay9 > div.x78zum5.x1q0g3np > div.x1iyjqo2.x1emribx.xr9ek0c > div > div:nth-child(2) > span > div > span:nth-child(1) > span > a"
   ]
  },
  {
   "cell_type": "code",
   "execution_count": null,
   "metadata": {},
   "outputs": [],
   "source": [
    "<a attributionsrc=\"/privacy_sandbox/comet/register/source/?xt=AZWBgZKoW0UKUabzzJ7Ch7obQzWrdWcgCG4PnN-B_zBHPInTdkbvI3oA4rgooBb8NBeFaQ71AVnCDaPJ45ikr90lFsWCgudMRi0KgRxRxR-ccC0p2gPWQAvGh2nkTUoJ5th8LrhlUZGZ43ceOdopNwzxy_EEQFa2Ii653Hdu5DD4Ute_NHRZwEPs3uWXzCKYBHzKZTGlSQHNMsZ6EdZ5Byfg8SDynCsIYTewhJkUkzeGyCPP6pxiBE444uoNk8m7lZdzs8IthUJUYUkPw2r5auzpcWnkBz7mf4mN_qHfWrNO6VQY4zHi6kcG6G6MHPOFEmlOTLXc2RSa3pLdw_17TrTafGJrfCct7lxRRy2sfPUwjRoPoS_caHK2HrLan9AP5bJkcC_2oPpRtxINtEm9-WUb-N4Dr8t7WGbKibBaCd4axz1poU5pbGBi4RFaMVkW4FK52WejbP3kFeJWVglks2NYXlnc8TLZ5iIGfAf6qYxpF9riFsd_TZIQJmOJz7lKiQNNKsoY0M_FzE1WGahvcDpnlco7FVIqIcV9xkHqxHT6YTgxEAYLpkIp70ym2okbTZ0Ur_jWB2A0XgkDnXpBbUS1271FLmuQYKaN1vK0owvp5KDAFvcZe-LKAzuheii8LzGsBoA-NyeTcZzGFLE0EZ3ODRmBKU_EPQU9wWA9sIxqq6JMD4UKDCden1GXzmOUACqLYQlTv1Cosx-1Vn2AwQIf8FB1fonAv2qb2TLIdjfatwtyBjcjZpFbayrDhKvjZNiKUK0KzXVKvVbxxrOzMzqHHi9xlBEjR-Iq2DG_IMhygFX2QuJl0kS3uz-cP2PVdw5HPXnw0aEf0hH__DTHOHS6\" class=\"x1i10hfl xjbqb8w x1ejq31n xd10rxx x1sy0etr x17r0tee x972fbf xcfux6l x1qhh985 xm0m39n x9f619 x1ypdohk xt0psk2 xe8uvvx xdj266r x11i5rnm xat24cr x1mh8g0r xexx8yu x4uap5 x18d9i69 xkhd6sd x16tdsg8 x1hl2dhg xggy1nq x1a2a7pz x1sur9pj xkrqix3 xzsf02u x1s688f\" href=\"/groups/431170093758925/?hoisted_section_header_type=recently_seen&amp;multi_permalinks=2546544888888091&amp;__cft__[0]=AZWhAtlZlugFzUUSBCBtQ5WRY2cudoCPVHGp8t5E4ok5bcFsMAHndMgCZE7o886mWPIIsGQwZmYgO_OdtbikwsQyrpJIkY8YGem-hEXzfqbEvdr1e249-XkLfzr0pDfTiB6BytGYqpsmuJCgYs-6384q3fuH8U1Vi7FHspdqcC_i7bjMoJmHctxVpidhC-TRau4&amp;__tn__=-UC%2CP-R\" role=\"link\" tabindex=\"0\"><span class=\"html-span xdj266r x11i5rnm xat24cr x1mh8g0r xexx8yu x4uap5 x18d9i69 xkhd6sd x1hl2dhg x16tdsg8 x1vvkbs\">Jack - J97</span></a>\n",
    "<a attributionsrc=\"/privacy_sandbox/comet/register/source/?xt=AZWBgZKoW0UKUabzzJ7Ch7obQzWrdWcgCG4PnN-B_zBHPInTdkbvI3oA4rgooBb8NBeFaQ71AVnCDaPJ45ikr90lFsWCgudMRi0KgRxRxR-ccC0p2gPWQAvGh2nkTUoJ5th8LrhlUZGZ43ceOdopNwzxy_EEQFa2Ii653Hdu5DD4Ute_NHRZwEPs3uWXzCKYBHzKZTGlSQHNMsZ6EdZ5Byfg8SDynCsIYTewhJkUkzeGyCPP6pxiBE444uoNk8m7lZdzs8IthUJUYUkPw2r5auzpcWnkBz7mf4mN_qHfWrNO6VQY4zHi6kcG6G6MHPOFEmlOTLXc2RSa3pLdw_17TrTafGJrfCct7lxRRy2sfPUwjRoPoS_caHK2HrLan9AP5bJkcC_2oPpRtxINtEm9-WUb-N4Dr8t7WGbKibBaCd4axz1poU5pbGBi4RFaMVkW4FK52WejbP3kFeJWVglks2NYXlnc8TLZ5iIGfAf6qYxpF9riFsd_TZIQJmOJz7lKiQNNKsoY0M_FzE1WGahvcDpnlco7FVIqIcV9xkHqxHT6YTgxEAYLpkIp70ym2okbTZ0Ur_jWB2A0XgkDnXpBbUS1271FLmuQYKaN1vK0owvp5KDAFvcZe-LKAzuheii8LzGsBoA-NyeTcZzGFLE0EZ3ODRmBKU_EPQU9wWA9sIxqq6JMD4UKDCden1GXzmOUACqLYQlTv1Cosx-1Vn2AwQIf8FB1fonAv2qb2TLIdjfatwtyBjcjZpFbayrDhKvjZNiKUK0KzXVKvVbxxrOzMzqHHi9xlBEjR-Iq2DG_IMhygFX2QuJl0kS3uz-cP2PVdw5HPXnw0aEf0hH__DTHOHS6\" class=\"x1i10hfl xjbqb8w x1ejq31n xd10rxx x1sy0etr x17r0tee x972fbf xcfux6l x1qhh985 xm0m39n x9f619 x1ypdohk xt0psk2 xe8uvvx xdj266r x11i5rnm xat24cr x1mh8g0r xexx8yu x4uap5 x18d9i69 xkhd6sd x16tdsg8 x1hl2dhg xggy1nq x1a2a7pz x1sur9pj xkrqix3 xi81zsa x1s688f\" href=\"?__cft__[0]=AZWhAtlZlugFzUUSBCBtQ5WRY2cudoCPVHGp8t5E4ok5bcFsMAHndMgCZE7o886mWPIIsGQwZmYgO_OdtbikwsQyrpJIkY8YGem-hEXzfqbEvdr1e249-XkLfzr0pDfTiB6BytGYqpsmuJCgYs-6384q3fuH8U1Vi7FHspdqcC_i7bjMoJmHctxVpidhC-TRau4&amp;__tn__=%2CO%2CP-R#?bid\" role=\"link\" tabindex=\"0\" target=\"_blank\"><span><span aria-labelledby=\":rik:\" class=\"x1rg5ohu x6ikm8r x10wlt62 x16dsc37 xt0b8zv\"><span class=\"xmper1u xt0psk2 xjb2p0i x1qlqyl8 x15bjb6t x1n2onr6 x17ihmo5 x1g77sc7\" style=\"display: flex;\"><span class=\"xi7du73 x1n2onr6 x17ihmo5 x36lzlx wrhKlDCs xrhKlDCt odoy pdoz\">n</span><span class=\"xjb2p0i x1r8a4m5 x1n2onr6 x17ihmo5 x182iqb8 wrhKlDCs xrhKlDCt odoy pdoz\">t</span><span class=\"x1qlqyl8 x15bjb6t x1r8a4m5 xi7du73 x1n2onr6 x17ihmo5 xgeagd7 wrhKlDCs xrhKlDCt odoy pdoz\">e</span><span class=\"xmper1u xt0psk2 xjb2p0i x1qlqyl8 x15bjb6t x1n2onr6 x17ihmo5 xal98gn wrhKlDCs xrhKlDCt odoy pdoz\">p</span><span class=\"x1r8a4m5 x1n2onr6 x17ihmo5 xhp99yf wrhKlDCs xrhKlDCt odoy pdoz\">o</span><span class=\"x1r8a4m5 x1n2onr6 x17ihmo5 xt5e8co wrhKlDCs xrhKlDCt odoy pdoz\">o</span><span class=\"xt0psk2 x1qlqyl8 x1n2onr6 x17ihmo5 x1eopwuj wrhKlDCs xrhKlDCt odoy pdoz\">s</span><span class=\"xjb2p0i x1r8a4m5 x1n2onr6 x17ihmo5 x1o75cna wrhKlDCs xrhKlDCt odoy pdoz\">d</span><span class=\"xmper1u x1qlqyl8 x1r8a4m5 x1n2onr6 x17ihmo5 xzfnrur wrhKlDCs xrhKlDCt odoy pdoz\">r</span><span class=\"xt0psk2 x1qlqyl8 x1n2onr6 x17ihmo5 x1iapmwa wrhKlDCs xrhKlDCt odoy pdoz\">S</span><span class=\"xi7du73 x1n2onr6 x17ihmo5 x1g88jzi wrhKlDCs xrhKlDCt odoy pdoz\">6</span><span class=\"x1qlqyl8 x15bjb6t x1r8a4m5 xi7du73 x1n2onr6 x17ihmo5 xv5skbt wrhKlDCs xrhKlDCt odoy pdoz\">5</span><span class=\"xjb2p0i x1r8a4m5 x1n2onr6 x17ihmo5 xsmz2so wrhKlDCs xrhKlDCt odoy pdoz\">4</span><span class=\"xmper1u x15bjb6t xi7du73 x1n2onr6 x17ihmo5 x1hrcb2b wrhKlDCs xrhKlDCt odoy pdoz\">i</span><span class=\"xmper1u xt0psk2 xjb2p0i x1qlqyl8 x15bjb6t x1n2onr6 x17ihmo5 x1pvdv19 wrhKlDCs xrhKlDCt odoy pdoz\">h</span><span class=\"xt0psk2 x1qlqyl8 x1n2onr6 x17ihmo5 x1pt730z wrhKlDCs xrhKlDCt odoy pdoz\">3</span><span class=\"x1qlqyl8 x15bjb6t x1r8a4m5 xi7du73 x1n2onr6 x17ihmo5 xd1zjae wrhKlDCs xrhKlDCt odoy pdoz\">5</span><span class=\"xt0psk2 x1qlqyl8 x1n2onr6 x17ihmo5 xde8tdn wrhKlDCs xrhKlDCt odoy pdoz\">c</span><span class=\"xi7du73 x1n2onr6 x17ihmo5 x1wx7m7v wrhKlDCs xrhKlDCt odoy pdoz\">6</span><span class=\"xmper1u xt0psk2 xjb2p0i x1qlqyl8 x15bjb6t x1n2onr6 x17ihmo5 x8onsx5 wrhKlDCs xrhKlDCt odoy pdoz\">h</span><span class=\"xmper1u xt0psk2 xjb2p0i x1qlqyl8 x15bjb6t x1n2onr6 x17ihmo5 x1162wnf wrhKlDCs xrhKlDCt odoy pdoz\">h</span><span class=\"xmper1u x15bjb6t xi7du73 x1n2onr6 x17ihmo5 x1ee9ax4 wrhKlDCs xrhKlDCt odoy pdoz\">i</span><span class=\"xmper1u xt0psk2 xjb2p0i x1qlqyl8 x15bjb6t x1n2onr6 x17ihmo5 xlmi2g5 wrhKlDCs xrhKlDCt odoy pdoz\">h</span><span class=\"xi7du73 x1n2onr6 x17ihmo5 x8az3br wrhKlDCs xrhKlDCt odoy pdoz\">6</span><span class=\"xmper1u xt0psk2 xjb2p0i x1qlqyl8 x15bjb6t x1n2onr6 x17ihmo5 xccpzn3 wrhKlDCs xrhKlDCt odoy pdoz\">0</span><span class=\"xi7du73 x1n2onr6 x17ihmo5 x1wa695h wrhKlDCs xrhKlDCt odoy pdoz\">6</span><span class=\"x1qlqyl8 x15bjb6t x1r8a4m5 xi7du73 x1n2onr6 x17ihmo5 x1vqz4hg wrhKlDCs xrhKlDCt odoy pdoz\">5</span><span class=\"x1r8a4m5 x1n2onr6 x17ihmo5 x1ocldi wrhKlDCs xrhKlDCt odoy pdoz\">7</span><span class=\"xi7du73 x1n2onr6 x17ihmo5 xwmoq1i wrhKlDCs xrhKlDCt odoy pdoz\">6</span><span class=\"xmper1u x15bjb6t xi7du73 x1n2onr6 x17ihmo5 x4pqqfc wrhKlDCs xrhKlDCt odoy pdoz\">i</span><span class=\"xt0psk2 x1qlqyl8 x1n2onr6 x17ihmo5 x434fd wrhKlDCs xrhKlDCt odoy pdoz\">c</span><span class=\"xmper1u xt0psk2 xjb2p0i x1qlqyl8 x15bjb6t x1n2onr6 x17ihmo5 x1xxvtuq wrhKlDCs xrhKlDCt odoy pdoz\">h</span><span class=\"xmper1u xt0psk2 xjb2p0i x1qlqyl8 x15bjb6t x1n2onr6 x17ihmo5 x1meexak\">h</span><span class=\"xmper1u x15bjb6t xi7du73 x1n2onr6 x17ihmo5 x16kj9vd wrhKlDCs xrhKlDCt odoy pdoz\">a</span><span class=\"xt0psk2 x1qlqyl8 x1n2onr6 x17ihmo5 xnt8be4\">3</span><span class=\"xmper1u x15bjb6t xi7du73 x1n2onr6 x17ihmo5 x13rv6gb wrhKlDCs xrhKlDCt odoy pdoz\">1</span><span class=\"x1qlqyl8 x15bjb6t x1r8a4m5 xi7du73 x1n2onr6 x17ihmo5 x1sjo555 wrhKlDCs xrhKlDCt odoy pdoz\">u</span><span class=\"xmper1u xt0psk2 xjb2p0i x1qlqyl8 x15bjb6t x1n2onr6 x17ihmo5 x7zgzr6 wrhKlDCs xrhKlDCt odoy pdoz\">0</span><span class=\"xi7du73 x1n2onr6 x17ihmo5 x1n901it wrhKlDCs xrhKlDCt odoy pdoz\">f</span><span class=\"xjb2p0i x1r8a4m5 x1n2onr6 x17ihmo5 xnlcnb7 wrhKlDCs xrhKlDCt odoy pdoz\">4</span><span class=\"xmper1u xt0psk2 xjb2p0i x1qlqyl8 x15bjb6t x1n2onr6 x17ihmo5 x4ffpxb wrhKlDCs xrhKlDCt odoy pdoz\">8</span><span class=\"xmper1u xt0psk2 xjb2p0i x1qlqyl8 x15bjb6t x1n2onr6 x17ihmo5 xo1ph6p wrhKlDCs xrhKlDCt odoy pdoz\">0</span><span class=\"xmper1u xt0psk2 xjb2p0i x1qlqyl8 x15bjb6t x1n2onr6 x17ihmo5 x14yy4lh wrhKlDCs xrhKlDCt odoy pdoz\">0</span><span class=\"xmper1u xt0psk2 xjb2p0i x1qlqyl8 x15bjb6t x1n2onr6 x17ihmo5 x1ihsnu5 wrhKlDCs xrhKlDCt odoy pdoz\">0</span><span class=\"x1qlqyl8 x15bjb6t x1r8a4m5 xi7du73 x1n2onr6 x17ihmo5 xpchg7c wrhKlDCs xrhKlDCt odoy pdoz\">u</span><span class=\"xt0psk2 x1qlqyl8 x1n2onr6 x17ihmo5 xi695je wrhKlDCs xrhKlDCt odoy pdoz\">3</span><span class=\"xmper1u x15bjb6t xi7du73 x1n2onr6 x17ihmo5 x1nicfno wrhKlDCs xrhKlDCt odoy pdoz\">a</span><span class=\"xmper1u xt0psk2 xjb2p0i x1qlqyl8 x15bjb6t x1n2onr6 x17ihmo5 x9ek82g wrhKlDCs xrhKlDCt odoy pdoz\">h</span><span class=\"xmper1u x15bjb6t xi7du73 x1n2onr6 x17ihmo5 x1hzvdaj wrhKlDCs xrhKlDCt odoy pdoz\">1</span><span class=\"x1qlqyl8 x15bjb6t x1r8a4m5 xi7du73 x1n2onr6 x17ihmo5 x1esxh7v wrhKlDCs xrhKlDCt odoy pdoz\">u</span><span class=\"xmper1u xt0psk2 xjb2p0i x1qlqyl8 x15bjb6t x1n2onr6 x17ihmo5 xt3tw32 wrhKlDCs xrhKlDCt odoy pdoz\">h</span><span class=\"x1qlqyl8 x15bjb6t x1r8a4m5 xi7du73 x1n2onr6 x17ihmo5 xax70vg wrhKlDCs xrhKlDCt odoy pdoz\">u</span><span class=\"xmper1u xt0psk2 xjb2p0i x1qlqyl8 x15bjb6t x1n2onr6 x17ihmo5 x4g1k81 wrhKlDCs xrhKlDCt odoy pdoz\">0</span><span class=\"xjb2p0i x1r8a4m5 x1n2onr6 x17ihmo5 x1h3rv7z wrhKlDCs xrhKlDCt odoy pdoz\">4</span><span class=\"xmper1u x15bjb6t xi7du73 x1n2onr6 x17ihmo5 xdc8zo0 wrhKlDCs xrhKlDCt odoy pdoz\">i</span><span class=\"xt0psk2 x1qlqyl8 x1n2onr6 x17ihmo5 x1o7lsid wrhKlDCs xrhKlDCt odoy pdoz\">3</span><span class=\"xmper1u x15bjb6t xi7du73 x1n2onr6 x17ihmo5 xclvua8 wrhKlDCs xrhKlDCt odoy pdoz\">1</span><span class=\"xjb2p0i x1r8a4m5 x1n2onr6 x17ihmo5 x8o8amb wrhKlDCs xrhKlDCt odoy pdoz\">4</span><span class=\"xi7du73 x1n2onr6 x17ihmo5 x2r4l8e wrhKlDCs xrhKlDCt odoy pdoz\">6</span><span class=\"xmper1u x15bjb6t xi7du73 x1n2onr6 x17ihmo5 x7txf1f wrhKlDCs xrhKlDCt odoy pdoz\">i</span></span></span></span></a>"
   ]
  }
 ],
 "metadata": {
  "kernelspec": {
   "display_name": ".venv",
   "language": "python",
   "name": "python3"
  },
  "language_info": {
   "name": "python",
   "version": "3.9.13"
  }
 },
 "nbformat": 4,
 "nbformat_minor": 2
}
